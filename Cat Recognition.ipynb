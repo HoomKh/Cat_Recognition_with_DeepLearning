{
 "cells": [
  {
   "cell_type": "markdown",
   "id": "7647a1b3-2874-4d48-8a6d-a73e16909089",
   "metadata": {},
   "source": [
    "<div style=\"text-align: center;\">\n",
    "    <img src=\"banners/catRecognition.jpg\" style=\"width:1920px;height:500px;\">\n",
    "</div>\n",
    "\n",
    "# 🐱 Cat Recognition Project\n",
    "This project involves building a neural network to recognize cats in images. The notebook guides you through data preparation, model building, training, and evaluation processes.\n"
   ]
  },
  {
   "cell_type": "markdown",
   "id": "cae45478-92b5-4544-81ec-7a3977bac51a",
   "metadata": {},
   "source": [
    "<div style=\"text-align: center;\">\n",
    "    <img src=\"banners/import.jpg\" style=\"width:600px;height:350px;\">\n",
    "</div>\n",
    "\n",
    "## 📚 1 - Importing Libraries\n",
    "First, import all the packages you'll need during this assignment. \n",
    "\n",
    "- [numpy](www.numpy.org) is the main package for scientific computing with Python.\n",
    "- [matplotlib](http://matplotlib.org) is a library to plot graphs in Python."
   ]
  },
  {
   "cell_type": "code",
   "execution_count": 100,
   "id": "91329412-1583-49ce-9495-bbd1f87d968b",
   "metadata": {},
   "outputs": [],
   "source": [
    "import numpy as np\n",
    "import h5py\n",
    "import matplotlib.pyplot as plt\n",
    "from dnn_utils import sigmoid, sigmoid_backward, relu, relu_backward\n",
    "import scipy\n",
    "from PIL import Image\n",
    "from scipy import ndimage\n",
    "import time\n",
    "import copy"
   ]
  },
  {
   "cell_type": "markdown",
   "id": "366f4b21-6db1-4f0b-9019-813974b15db4",
   "metadata": {},
   "source": [
    "<div style=\"text-align: center;\">\n",
    "    <img src=\"banners/utilityFunc.jpg\" style=\"width:600px;height:350px;\">\n",
    "</div>\n",
    "\n",
    "## ⚙️ 2 - Utility Functions\n",
    "- Provides essential functions for the neural network operations.\n",
    "- Includes both forward and backward propagation functions for sigmoid and ReLU activations."
   ]
  },
  {
   "cell_type": "code",
   "execution_count": 101,
   "id": "20b485b7-3b3f-4a60-9ae5-e6ca2bda3d4f",
   "metadata": {},
   "outputs": [],
   "source": [
    "def sigmoid(Z):\n",
    "    A = 1/(1+np.exp(-Z))\n",
    "    cache = Z\n",
    "    return A, cache\n",
    "\n",
    "\n",
    "def relu(Z):\n",
    "    A = np.maximum(0,Z)\n",
    "    assert(A.shape == Z.shape)\n",
    "    cache = Z \n",
    "    return A, cache\n",
    "\n",
    "\n",
    "def relu_backward(dA, cache):\n",
    "    Z = cache\n",
    "    dZ = np.array(dA, copy=True) # just converting dz to a correct object.\n",
    "    # When z <= 0, you should set dz to 0 as well. \n",
    "    dZ[Z <= 0] = 0\n",
    "    assert (dZ.shape == Z.shape)\n",
    "    return dZ\n",
    "\n",
    "\n",
    "def sigmoid_backward(dA, cache):\n",
    "    Z = cache\n",
    "    s = 1/(1+np.exp(-Z))\n",
    "    dZ = dA * s * (1-s)\n",
    "    assert (dZ.shape == Z.shape)\n",
    "    return dZ"
   ]
  },
  {
   "cell_type": "markdown",
   "id": "31720e04-2dd6-4ba7-a11b-d834d39f07b6",
   "metadata": {},
   "source": [
    "<div style=\"text-align: center;\">\n",
    "    <img src=\"banners/init.jpg\" style=\"width:600px;height:350px;\">\n",
    "</div>\n",
    "\n",
    "## 🏗️ 3 - Initialization\n",
    "### 🔗 3.1 - 2-layer Neural Network\n",
    "The following function initializes the parameters for a simple two-layer neural network. This model includes an input layer, a hidden layer, and an output layer."
   ]
  },
  {
   "cell_type": "code",
   "execution_count": 102,
   "id": "e255c560-1f64-4b52-bc79-7254b38cea5e",
   "metadata": {},
   "outputs": [],
   "source": [
    "def initialize_parameters(n_x, n_h, n_y):\n",
    "    \"\"\"\n",
    "    Argument:\n",
    "    n_x -- size of the input layer\n",
    "    n_h -- size of the hidden layer\n",
    "    n_y -- size of the output layer\n",
    "    \n",
    "    Returns:\n",
    "    parameters -- python dictionary containing your parameters:\n",
    "                    W1 -- weight matrix of shape (n_h, n_x)\n",
    "                    b1 -- bias vector of shape (n_h, 1)\n",
    "                    W2 -- weight matrix of shape (n_y, n_h)\n",
    "                    b2 -- bias vector of shape (n_y, 1)\n",
    "    \"\"\"\n",
    "    \n",
    "    np.random.seed(1)\n",
    "    \n",
    "    W1 = np.random.randn(n_h, n_x)*0.01\n",
    "    b1 = np.zeros((n_h, 1))\n",
    "    W2 = np.random.randn(n_y, n_h)*0.01\n",
    "    b2 = np.zeros((n_y, 1))\n",
    "    \n",
    "    assert(W1.shape == (n_h, n_x))\n",
    "    assert(b1.shape == (n_h, 1))\n",
    "    assert(W2.shape == (n_y, n_h))\n",
    "    assert(b2.shape == (n_y, 1))\n",
    "    \n",
    "    parameters = {\"W1\": W1,\n",
    "                  \"b1\": b1,\n",
    "                  \"W2\": W2,\n",
    "                  \"b2\": b2}\n",
    "    \n",
    "    return parameters     \n",
    "\n"
   ]
  },
  {
   "cell_type": "markdown",
   "id": "32bf8b16-2fde-44a6-843d-38e546710a23",
   "metadata": {},
   "source": [
    "### 3.2 - L-layer Neural Network\n",
    "The following function generalizes the parameter initialization process for a deep neural network with \n",
    "𝐿\n",
    "L layers. This allows for flexibility in building neural networks with more than two layers."
   ]
  },
  {
   "cell_type": "code",
   "execution_count": 103,
   "id": "2f7eb4f4-0fe3-49dc-9845-02df02b449a0",
   "metadata": {},
   "outputs": [],
   "source": [
    "def initialize_parameters_deep(layer_dims):\n",
    "    \"\"\"\n",
    "    Arguments:\n",
    "        layer_dims -- python array (list) containing the dimensions of each layer in our network\n",
    "    Returns:\n",
    "        parameters -- python dictionary containing your parameters \"W1\", \"b1\", ..., \"WL\", \"bL\":\n",
    "        Wl -- weight matrix of shape (layer_dims[l], layer_dims[l-1])\n",
    "        bl -- bias vector of shape (layer_dims[l], 1)\n",
    "    \"\"\"\n",
    "    np.random.seed(1)\n",
    "    parameters = {}\n",
    "    L = len(layer_dims)            # number of layers in the network\n",
    "\n",
    "    for l in range(1, L):\n",
    "        parameters['W' + str(l)] = np.random.randn(layer_dims[l], layer_dims[l-1]) / np.sqrt(layer_dims[l-1]) #*0.01\n",
    "        parameters['b' + str(l)] = np.zeros((layer_dims[l], 1))\n",
    "        \n",
    "        assert(parameters['W' + str(l)].shape == (layer_dims[l], layer_dims[l-1]))\n",
    "        assert(parameters['b' + str(l)].shape == (layer_dims[l], 1))\n",
    "\n",
    "        \n",
    "    return parameters"
   ]
  },
  {
   "cell_type": "markdown",
   "id": "31bbaf7c-4bee-442b-a9c2-daf2b4e782de",
   "metadata": {},
   "source": [
    "<div style=\"text-align: center;\">\n",
    "    <img src=\"banners/forward.jpg\" style=\"width:600px;height:350px;\">\n",
    "</div>\n",
    "\n",
    "## 🔄 4 - Forward Propagation Module\n",
    "\n",
    "<a name='4-1'></a>\n",
    "### ⏩ 4.1 - Linear Forward \n",
    "\n",
    "Now that we have initialized our parameters, we can do the forward propagation module. Start by implementing some basic functions that we can use again later when implementing the model. Now, we'll complete three functions in this order:\n",
    "\n",
    "- LINEAR\n",
    "- LINEAR -> ACTIVATION where ACTIVATION will be either ReLU or Sigmoid. \n",
    "- [LINEAR -> RELU] $\\times$ (L-1) -> LINEAR -> SIGMOID (whole model)\n",
    "\n",
    "The linear forward module (vectorized over all the examples) computes the following equations:\n",
    "\n",
    "$$Z^{[l]} = W^{[l]}A^{[l-1]} +b^{[l]}\\tag{4}$$\n",
    "\n",
    "where $A^{[0]} = X$. \n",
    "\n",
    "<a name='ex-3'></a>\n"
   ]
  },
  {
   "cell_type": "code",
   "execution_count": 104,
   "id": "10c3d50a-090e-4018-be04-742d94a4912c",
   "metadata": {},
   "outputs": [],
   "source": [
    "def linear_forward(A, W, b):\n",
    "\n",
    "    Z = W.dot(A) + b\n",
    "    \n",
    "    assert(Z.shape == (W.shape[0], A.shape[1]))\n",
    "    cache = (A, W, b)\n",
    "    return Z, cache"
   ]
  },
  {
   "cell_type": "markdown",
   "id": "fc1c27df-b089-43a3-9468-e3f21894cef1",
   "metadata": {
    "jp-MarkdownHeadingCollapsed": true
   },
   "source": [
    "<a name='4-2'></a>\n",
    "### ⏩ 4.2 - Linear-Activation Forward\n",
    "\n",
    "In this notebook, We will use two activation functions:\n",
    "\n",
    "- **Sigmoid**: $\\sigma(Z) = \\sigma(W A + b) = \\frac{1}{ 1 + e^{-(W A + b)}}$. We've been provided with the `sigmoid` function which returns **two** items: the activation value \"`a`\" and a \"`cache`\" that contains \"`Z`\" (it's what we will feed in to the corresponding backward function). To use it you could just call: \n",
    "``` python\n",
    "A, activation_cache = sigmoid(Z)\n",
    "```\n",
    "\n",
    "- **ReLU**: The mathematical formula for ReLu is $A = RELU(Z) = max(0, Z)$. We've been provided with the `relu` function. This function returns **two** items: the activation value \"`A`\" and a \"`cache`\" that contains \"`Z`\" (it's what you'll feed in to the corresponding backward function). To use it you could just call:\n",
    "``` python\n",
    "A, activation_cache = relu(Z)\n",
    "```"
   ]
  },
  {
   "cell_type": "code",
   "execution_count": 105,
   "id": "1c65fd75-aa1a-42ec-8543-76a21277e080",
   "metadata": {},
   "outputs": [],
   "source": [
    "def linear_activation_forward(A_prev, W, b, activation):\n",
    "    \n",
    "    if activation == \"sigmoid\":\n",
    "        # Inputs: \"A_prev, W, b\". Outputs: \"A, activation_cache\".\n",
    "        Z, linear_cache = linear_forward(A_prev, W, b)\n",
    "        A, activation_cache = sigmoid(Z)\n",
    "    \n",
    "    elif activation == \"relu\":\n",
    "        # Inputs: \"A_prev, W, b\". Outputs: \"A, activation_cache\".\n",
    "        Z, linear_cache = linear_forward(A_prev, W, b)\n",
    "        A, activation_cache = relu(Z)\n",
    "        \n",
    "    else:\n",
    "        print(\"\\033[91mError! Please make sure you have passed the value correctly in the \\\"activation\\\" parameter\")\n",
    "    \n",
    "    assert (A.shape == (W.shape[0], A_prev.shape[1]))\n",
    "    cache = (linear_cache, activation_cache)\n",
    "\n",
    "    return A, cache"
   ]
  },
  {
   "cell_type": "markdown",
   "id": "be7034ea-71f6-4878-b604-5b1e153b545b",
   "metadata": {},
   "source": [
    "### ⏩ 4.3 - L-Layer Model \n",
    "\n",
    "For even *more* convenience when implementing the $L$-layer Neural Net, we will need a function that replicates the previous one (`linear_activation_forward` with RELU) $L-1$ times, then follows that with one `linear_activation_forward` with SIGMOID."
   ]
  },
  {
   "cell_type": "code",
   "execution_count": 106,
   "id": "4d44ff08-c81a-4ba0-8539-8062ad327160",
   "metadata": {},
   "outputs": [],
   "source": [
    "def L_model_forward(X, parameters):\n",
    "\n",
    "    caches = []\n",
    "    A = X\n",
    "    L = len(parameters) // 2 # number of layers in the neural network\n",
    "    \n",
    "    # Implement [LINEAR -> RELU]*(L-1). Add \"cache\" to the \"caches\" list.\n",
    "    for l in range(1, L):\n",
    "        A_prev = A \n",
    "        A, cache = linear_activation_forward(A_prev, parameters['W' + str(l)], parameters['b' + str(l)], activation = \"relu\")\n",
    "        caches.append(cache)\n",
    "    \n",
    "    # Implement LINEAR -> SIGMOID. Add \"cache\" to the \"caches\" list.\n",
    "    AL, cache = linear_activation_forward(A, parameters['W' + str(L)], parameters['b' + str(L)], activation = \"sigmoid\")\n",
    "    caches.append(cache)\n",
    "    \n",
    "    assert(AL.shape == (1,X.shape[1]))\n",
    "            \n",
    "    return AL, caches"
   ]
  },
  {
   "cell_type": "markdown",
   "id": "c2be79f0-24bd-454d-b0ed-2a05022c2aa8",
   "metadata": {},
   "source": [
    "<div style=\"text-align: center;\">\n",
    "    <img src=\"banners/cost.jpg\" style=\"width:600px;height:350px;\">\n",
    "</div>\n",
    "\n",
    "## 📉 5 - Cost Function\n",
    "\n",
    "Now we can implement forward and backward propagation! We need to compute the cost, in order to check whether our model is actually learning."
   ]
  },
  {
   "cell_type": "code",
   "execution_count": 107,
   "id": "ec4db528-d1ef-43e5-8420-e3272b87815b",
   "metadata": {},
   "outputs": [],
   "source": [
    "def compute_cost(AL, Y):\n",
    "    m = Y.shape[1]\n",
    "\n",
    "    # Compute loss from aL and y.\n",
    "    cost = (1./m) * (-np.dot(Y,np.log(AL).T) - np.dot(1-Y, np.log(1-AL).T))\n",
    "    \n",
    "    cost = np.squeeze(cost)      # To make sure your cost's shape is what we expect (e.g. this turns [[17]] into 17).\n",
    "    assert(cost.shape == ())\n",
    "    \n",
    "    return cost"
   ]
  },
  {
   "cell_type": "markdown",
   "id": "37fbfd13-7d94-40ab-8b13-80389e6c6fd0",
   "metadata": {},
   "source": [
    "<div style=\"text-align: center;\">\n",
    "    <img src=\"banners/backward.jpg\" style=\"width:600px;height:350px;\">\n",
    "</div>\n",
    "\n",
    "## 🔄 6 - Backward Propagation Module\n",
    "\n",
    "Just as we did for the forward propagation, We'll implement helper functions for backpropagation. Remember that backpropagation is used to calculate the gradient of the loss function with respect to the parameters. "
   ]
  },
  {
   "cell_type": "markdown",
   "id": "23281e25-58d8-4874-9812-c21e877b32fd",
   "metadata": {},
   "source": [
    "<a name='6-1'></a>\n",
    "### ⏮️ 6.1 - Linear Backward\n",
    "\n",
    "For layer $l$, the linear part is: $Z^{[l]} = W^{[l]} A^{[l-1]} + b^{[l]}$ (followed by an activation).\n",
    "\n",
    "Suppose we have already calculated the derivative $dZ^{[l]} = \\frac{\\partial \\mathcal{L} }{\\partial Z^{[l]}}$. We want to get $(dW^{[l]}, db^{[l]}, dA^{[l-1]})$.\n",
    "\n",
    "The three outputs $(dW^{[l]}, db^{[l]}, dA^{[l-1]})$ are computed using the input $dZ^{[l]}$.\n",
    "\n",
    "Here are the formulas we need:\n",
    "$$ dW^{[l]} = \\frac{\\partial \\mathcal{J} }{\\partial W^{[l]}} = \\frac{1}{m} dZ^{[l]} A^{[l-1] T} \\tag{8}$$\n",
    "$$ db^{[l]} = \\frac{\\partial \\mathcal{J} }{\\partial b^{[l]}} = \\frac{1}{m} \\sum_{i = 1}^{m} dZ^{[l](i)}\\tag{9}$$\n",
    "$$ dA^{[l-1]} = \\frac{\\partial \\mathcal{L} }{\\partial A^{[l-1]}} = W^{[l] T} dZ^{[l]} \\tag{10}$$\n",
    "\n",
    "\n",
    "$A^{[l-1] T}$ is the transpose of $A^{[l-1]}$. "
   ]
  },
  {
   "cell_type": "code",
   "execution_count": 108,
   "id": "ef360057-839d-4753-87bb-ba8659e43785",
   "metadata": {},
   "outputs": [],
   "source": [
    "def linear_backward(dZ, cache):\n",
    "    A_prev, W, b = cache\n",
    "    m = A_prev.shape[1]\n",
    "\n",
    "    dW = 1./m * np.dot(dZ,A_prev.T)\n",
    "    db = 1./m * np.sum(dZ, axis = 1, keepdims = True)\n",
    "    dA_prev = np.dot(W.T,dZ)\n",
    "    \n",
    "    assert (dA_prev.shape == A_prev.shape)\n",
    "    assert (dW.shape == W.shape)\n",
    "    assert (db.shape == b.shape)\n",
    "    \n",
    "    return dA_prev, dW, db"
   ]
  },
  {
   "cell_type": "markdown",
   "id": "6f506434-9aa4-4b65-9ccb-2fad362a7cba",
   "metadata": {},
   "source": [
    "<a name='6-2'></a>\n",
    "### ⏮️ 6.2 - Linear-Activation Backward\n",
    "\n",
    "Next, We will create a function that merges the two helper functions: **`linear_backward`** and the backward step for the activation **`linear_activation_backward`**. \n",
    "\n",
    "To help us implement `linear_activation_backward`, two backward functions have been provided:\n",
    "- **`sigmoid_backward`**: Implements the backward propagation for SIGMOID unit. We can call it as follows:\n",
    "\n",
    "```python\n",
    "dZ = sigmoid_backward(dA, activation_cache)\n",
    "```\n",
    "\n",
    "- **`relu_backward`**: Implements the backward propagation for RELU unit. We can call it as follows:\n",
    "\n",
    "```python\n",
    "dZ = relu_backward(dA, activation_cache)\n",
    "```\n",
    "\n",
    "If $g(.)$ is the activation function, \n",
    "`sigmoid_backward` and `relu_backward` compute $$dZ^{[l]} = dA^{[l]} * g'(Z^{[l]}). \\tag{11}$$  \n",
    "\n",
    "<a name='ex-8'></a>"
   ]
  },
  {
   "cell_type": "code",
   "execution_count": 109,
   "id": "b4edca09-0634-4730-9232-3e55ef12f5ce",
   "metadata": {},
   "outputs": [],
   "source": [
    "def linear_activation_backward(dA, cache, activation):\n",
    "\n",
    "    linear_cache, activation_cache = cache\n",
    "    \n",
    "    if activation == \"relu\":\n",
    "        dZ = relu_backward(dA, activation_cache)\n",
    "        dA_prev, dW, db = linear_backward(dZ, linear_cache)\n",
    "        \n",
    "    elif activation == \"sigmoid\":\n",
    "        dZ = sigmoid_backward(dA, activation_cache)\n",
    "        dA_prev, dW, db = linear_backward(dZ, linear_cache)\n",
    "        \n",
    "    else:\n",
    "        print(\"\\033[91mError! Please make sure you have passed the value correctly in the \\\"activation\\\" parameter\")\n",
    "    \n",
    "    return dA_prev, dW, db"
   ]
  },
  {
   "cell_type": "markdown",
   "id": "4a7abc97-93f4-40c8-9cd2-eb20e09dc5ba",
   "metadata": {},
   "source": [
    "<a name='6-3'></a>\n",
    "### ⏮️ 6.3 - L-Model Backward \n",
    "\n",
    "Now we will implement the backward function for the whole network! \n",
    "\n",
    "Recall that when we implemented the `L_model_forward` function, at each iteration, you stored a cache which contains (X,W,b, and z). In the back propagation module, we'll use those variables to compute the gradients. Therefore, in the `L_model_backward` function, we'll iterate through all the hidden layers backward, starting from layer $L$. On each step, we will use the cached values for layer $l$ to backpropagate through layer $l$. Figure 5 below shows the backward pass. \n",
    "\n",
    "**Initializing backpropagation**:\n",
    "\n",
    "To backpropagate through this network, we know that the output is: \n",
    "$A^{[L]} = \\sigma(Z^{[L]})$. Our code thus needs to compute `dAL` $= \\frac{\\partial \\mathcal{L}}{\\partial A^{[L]}}$.\n",
    "To do so, use this formula (derived using calculus which, again, we don't need in-depth knowledge of!):\n",
    "```python\n",
    "dAL = - (np.divide(Y, AL) - np.divide(1 - Y, 1 - AL)) # derivative of cost with respect to AL\n",
    "```\n",
    "\n",
    "we can then use this post-activation gradient `dAL` to keep going backward. As seen in Figure 5, we can now feed in `dAL` into the LINEAR->SIGMOID backward function we implemented (which will use the cached values stored by the L_model_forward function). \n",
    "\n",
    "After that, we will have to use a `for` loop to iterate through all the other layers using the LINEAR->RELU backward function. We should store each dA, dW, and db in the grads dictionary. To do so, use this formula : \n",
    "\n",
    "$$grads[\"dW\" + str(l)] = dW^{[l]}\\tag{15} $$\n",
    "\n",
    "For example, for $l=3$ this would store $dW^{[l]}$ in `grads[\"dW3\"]`.\n",
    "\n",
    "<a name='ex-9'></a>"
   ]
  },
  {
   "cell_type": "code",
   "execution_count": 110,
   "id": "0e52a046-ab45-4350-b72e-a6322f7846d2",
   "metadata": {},
   "outputs": [],
   "source": [
    "def L_model_backward(AL, Y, caches):\n",
    "\n",
    "    grads = {}\n",
    "    L = len(caches) # the number of layers\n",
    "    m = AL.shape[1]\n",
    "    Y = Y.reshape(AL.shape) # after this line, Y is the same shape as AL\n",
    "    \n",
    "    # Initializing the backpropagation\n",
    "    dAL = - (np.divide(Y, AL) - np.divide(1 - Y, 1 - AL))\n",
    "    \n",
    "    # Lth layer (SIGMOID -> LINEAR) gradients. Inputs: \"AL, Y, caches\". Outputs: \"grads[\"dAL\"], grads[\"dWL\"], grads[\"dbL\"]\n",
    "    current_cache = caches[L-1]\n",
    "    grads[\"dA\" + str(L-1)], grads[\"dW\" + str(L)], grads[\"db\" + str(L)] = linear_activation_backward(dAL, current_cache, activation = \"sigmoid\")\n",
    "    \n",
    "    for l in reversed(range(L-1)):\n",
    "        # lth layer: (RELU -> LINEAR) gradients.\n",
    "        current_cache = caches[l]\n",
    "        dA_prev_temp, dW_temp, db_temp = linear_activation_backward(grads[\"dA\" + str(l + 1)], current_cache, activation = \"relu\")\n",
    "        grads[\"dA\" + str(l)] = dA_prev_temp\n",
    "        grads[\"dW\" + str(l + 1)] = dW_temp\n",
    "        grads[\"db\" + str(l + 1)] = db_temp\n",
    "\n",
    "    return grads"
   ]
  },
  {
   "cell_type": "markdown",
   "id": "66168261-81fc-4539-b1b7-48650d61fa37",
   "metadata": {},
   "source": [
    "<a name='6-4'></a>\n",
    "### 🔄 6.4 - Update Parameters\n",
    "\n",
    "In this section, We'll update the parameters of the model, using gradient descent: \n",
    "\n",
    "$$ W^{[l]} = W^{[l]} - \\alpha \\text{ } dW^{[l]} \\tag{16}$$\n",
    "$$ b^{[l]} = b^{[l]} - \\alpha \\text{ } db^{[l]} \\tag{17}$$\n",
    "\n",
    "where $\\alpha$ is the learning rate. \n",
    "\n",
    "After computing the updated parameters, we store them in the parameters dictionary. "
   ]
  },
  {
   "cell_type": "code",
   "execution_count": 111,
   "id": "2de99d32-5d16-4691-9bd0-5ca03ee0bf29",
   "metadata": {},
   "outputs": [],
   "source": [
    "def update_parameters(parameters, grads, learning_rate):\n",
    "\n",
    "    \n",
    "    L = len(parameters) // 2 # number of layers in the neural network\n",
    "\n",
    "    # Update rule for each parameter. Use a for loop.\n",
    "    for l in range(L):\n",
    "        parameters[\"W\" + str(l+1)] = parameters[\"W\" + str(l+1)] - learning_rate * grads[\"dW\" + str(l+1)]\n",
    "        parameters[\"b\" + str(l+1)] = parameters[\"b\" + str(l+1)] - learning_rate * grads[\"db\" + str(l+1)]\n",
    "        \n",
    "    return parameters"
   ]
  },
  {
   "cell_type": "markdown",
   "id": "64dca9ea-afff-4b95-9892-f27388ed8684",
   "metadata": {
    "jp-MarkdownHeadingCollapsed": true
   },
   "source": [
    "<div style=\"text-align: center;\">\n",
    "    <img src=\"banners/training.jpg\" style=\"width:600px;height:350px;\">\n",
    "</div>\n",
    "\n",
    "## 🏋️ 7 - Train The Model"
   ]
  },
  {
   "cell_type": "markdown",
   "id": "7f737ef8-8a68-4b32-9349-445d3c6f73c6",
   "metadata": {},
   "source": [
    "<a name='2'></a>\n",
    "### 📦 7.1 - Load and Process the Dataset\n",
    "\n",
    "**Problem Statement**: We are given a dataset (\"data.h5\") containing:\n",
    "\n",
    "    - a training set of `m_train` images labelled as cat (1) or non-cat (0)\n",
    "    - a test set of `m_test` images labelled as cat and non-cat\n",
    "    - each image is of shape (num_px, num_px, 3) where 3 is for the 3 channels (RGB).\n",
    "\n",
    "Let's get more familiar with the dataset. Load the data by running the cell below."
   ]
  },
  {
   "cell_type": "code",
   "execution_count": 112,
   "id": "1ca2fc45-5b90-43d4-9bd7-7e2b996f52b7",
   "metadata": {},
   "outputs": [],
   "source": [
    "def load_data():\n",
    "    train_dataset = h5py.File('datasets/train_catvnoncat.h5', \"r\")\n",
    "    train_set_x_orig = np.array(train_dataset[\"train_set_x\"][:]) # your train set features\n",
    "    train_set_y_orig = np.array(train_dataset[\"train_set_y\"][:]) # your train set labels\n",
    "\n",
    "    test_dataset = h5py.File('datasets/test_catvnoncat.h5', \"r\")\n",
    "    test_set_x_orig = np.array(test_dataset[\"test_set_x\"][:]) # your test set features\n",
    "    test_set_y_orig = np.array(test_dataset[\"test_set_y\"][:]) # your test set labels\n",
    "\n",
    "    classes = np.array(test_dataset[\"list_classes\"][:]) # the list of classes\n",
    "    \n",
    "    train_set_y_orig = train_set_y_orig.reshape((1, train_set_y_orig.shape[0]))\n",
    "    test_set_y_orig = test_set_y_orig.reshape((1, test_set_y_orig.shape[0]))\n",
    "    \n",
    "    return train_set_x_orig, train_set_y_orig, test_set_x_orig, test_set_y_orig, classes\n"
   ]
  },
  {
   "cell_type": "code",
   "execution_count": 121,
   "id": "13beb270-d6f8-402a-99e7-102a506d8541",
   "metadata": {},
   "outputs": [],
   "source": [
    "train_x_orig, train_y, test_x_orig, test_y, classes = load_data()"
   ]
  },
  {
   "cell_type": "code",
   "execution_count": 122,
   "id": "571e7f1a-0b66-42aa-b897-b9fee1a8d45b",
   "metadata": {},
   "outputs": [
    {
     "name": "stdout",
     "output_type": "stream",
     "text": [
      "y = 0. It's a non-cat picture.\n"
     ]
    },
    {
     "data": {
      "image/png": "[encoded data removed]",
      "text/plain": [
       "<Figure size 640x480 with 1 Axes>"
      ]
     },
     "metadata": {},
     "output_type": "display_data"
    }
   ],
   "source": [
    "# Example of a picture\n",
    "index = 10\n",
    "plt.imshow(train_x_orig[index])\n",
    "print (\"y = \" + str(train_y[0,index]) + \". It's a \" + classes[train_y[0,index]].decode(\"utf-8\") +  \" picture.\")"
   ]
  },
  {
   "cell_type": "code",
   "execution_count": 123,
   "id": "e9e3318c-f2cd-4e8d-a317-e12064d95ab5",
   "metadata": {},
   "outputs": [
    {
     "name": "stdout",
     "output_type": "stream",
     "text": [
      "Number of training examples: 209\n",
      "Number of testing examples: 50\n",
      "Each image is of size: (64, 64, 3)\n",
      "train_x_orig shape: (209, 64, 64, 3)\n",
      "train_y shape: (1, 209)\n",
      "test_x_orig shape: (50, 64, 64, 3)\n",
      "test_y shape: (1, 50)\n"
     ]
    }
   ],
   "source": [
    "# Explore your dataset \n",
    "m_train = train_x_orig.shape[0]\n",
    "num_px = train_x_orig.shape[1]\n",
    "m_test = test_x_orig.shape[0]\n",
    "\n",
    "print (\"Number of training examples: \" + str(m_train))\n",
    "print (\"Number of testing examples: \" + str(m_test))\n",
    "print (\"Each image is of size: (\" + str(num_px) + \", \" + str(num_px) + \", 3)\")\n",
    "print (\"train_x_orig shape: \" + str(train_x_orig.shape))\n",
    "print (\"train_y shape: \" + str(train_y.shape))\n",
    "print (\"test_x_orig shape: \" + str(test_x_orig.shape))\n",
    "print (\"test_y shape: \" + str(test_y.shape))"
   ]
  },
  {
   "cell_type": "code",
   "execution_count": 124,
   "id": "8e7f0146-d1c7-4146-bb7f-4eba679308af",
   "metadata": {},
   "outputs": [
    {
     "name": "stdout",
     "output_type": "stream",
     "text": [
      "train_x's shape: (12288, 209)\n",
      "test_x's shape: (12288, 50)\n"
     ]
    }
   ],
   "source": [
    "# Reshape the training and test examples \n",
    "train_x_flatten = train_x_orig.reshape(train_x_orig.shape[0], -1).T   # The \"-1\" makes reshape flatten the remaining dimensions\n",
    "test_x_flatten = test_x_orig.reshape(test_x_orig.shape[0], -1).T\n",
    "\n",
    "# Standardize data to have feature values between 0 and 1.\n",
    "train_x = train_x_flatten/255.\n",
    "test_x = test_x_flatten/255.\n",
    "\n",
    "print (\"train_x's shape: \" + str(train_x.shape))\n",
    "print (\"test_x's shape: \" + str(test_x.shape))"
   ]
  },
  {
   "cell_type": "markdown",
   "id": "ac996a57-d324-4ad5-8db1-fd9b97cdcf22",
   "metadata": {},
   "source": [
    "### 🧠 7.2 - L-layer Neural Network\n",
    "Use the helper functions we implemented previously to build an $L$-layer neural network with the following structure: *[LINEAR -> RELU]$\\times$(L-1) -> LINEAR -> SIGMOID*. The functions and their inputs are:\n",
    "```python\n",
    "def initialize_parameters_deep(layers_dims):\n",
    "    ...\n",
    "    return parameters \n",
    "def L_model_forward(X, parameters):\n",
    "    ...\n",
    "    return AL, caches\n",
    "def compute_cost(AL, Y):\n",
    "    ...\n",
    "    return cost\n",
    "def L_model_backward(AL, Y, caches):\n",
    "    ...\n",
    "    return grads\n",
    "def update_parameters(parameters, grads, learning_rate):\n",
    "    ...\n",
    "    return parameters\n",
    "```"
   ]
  },
  {
   "cell_type": "code",
   "execution_count": 117,
   "id": "c9f93b29-6070-4e04-8168-b9b9c99b4974",
   "metadata": {},
   "outputs": [],
   "source": [
    "### CONSTANTS ###\n",
    "layers_dims = [12288, 20, 7, 5, 1] #  4-layer model"
   ]
  },
  {
   "cell_type": "code",
   "execution_count": 118,
   "id": "ba6bb9c2-df5a-46ab-8267-e02128032cfd",
   "metadata": {},
   "outputs": [],
   "source": [
    "def L_layer_model(X, Y, layers_dims, learning_rate = 0.0075, num_iterations = 3000, print_cost=False):\n",
    "\n",
    "\n",
    "    np.random.seed(1)\n",
    "    costs = []                         # keep track of cost\n",
    "    \n",
    "  \n",
    "    parameters = initialize_parameters_deep(layers_dims)\n",
    "    \n",
    "    for i in range(0, num_iterations):\n",
    "\n",
    "        AL, caches = L_model_forward(X, parameters)\n",
    "        cost = compute_cost(AL, Y)\n",
    "        grads = L_model_backward(AL, Y, caches)\n",
    "        parameters = update_parameters(parameters, grads, learning_rate)\n",
    " \n",
    "                \n",
    "        # Print the cost every 100 iterations\n",
    "        if print_cost and i % 100 == 0 or i == num_iterations - 1:\n",
    "            print(\"Cost after iteration {}: {}\".format(i, np.squeeze(cost)))\n",
    "        if i % 100 == 0 or i == num_iterations:\n",
    "            costs.append(cost)\n",
    "    \n",
    "    return parameters, costs"
   ]
  },
  {
   "cell_type": "markdown",
   "id": "684502a6-d1ff-4616-bf7a-511e7fa0be47",
   "metadata": {},
   "source": [
    "<a name='5-1'></a>\n",
    "### 🚀 7.3 - Train the model \n",
    "\n",
    "Run the cell below to train our model as a 4-layer neural network. \n",
    "\n",
    "- The cost should decrease on every iteration. \n",
    "\n",
    "- It may take up to 5 minutes to run 2500 iterations."
   ]
  },
  {
   "cell_type": "code",
   "execution_count": 119,
   "id": "9f2d65ce-6a4d-4462-a9ae-837bb7a883df",
   "metadata": {},
   "outputs": [
    {
     "name": "stdout",
     "output_type": "stream",
     "text": [
      "Cost after iteration 0: 0.7717493284237688\n",
      "Cost after iteration 100: 0.6720534400822913\n",
      "Cost after iteration 200: 0.6482632048575223\n",
      "Cost after iteration 300: 0.6115068816101359\n",
      "Cost after iteration 400: 0.5670473268366109\n",
      "Cost after iteration 500: 0.5401376634547794\n",
      "Cost after iteration 600: 0.5279299569455262\n",
      "Cost after iteration 700: 0.46547737717668486\n",
      "Cost after iteration 800: 0.3691258524959283\n",
      "Cost after iteration 900: 0.3917469743480533\n",
      "Cost after iteration 1000: 0.31518698886006175\n",
      "Cost after iteration 1100: 0.27269984417893894\n",
      "Cost after iteration 1200: 0.23741853400268131\n",
      "Cost after iteration 1300: 0.1996012053220865\n",
      "Cost after iteration 1400: 0.18926300388463344\n",
      "Cost after iteration 1500: 0.16118854665827717\n",
      "Cost after iteration 1600: 0.1482138966236332\n",
      "Cost after iteration 1700: 0.13777487812972944\n",
      "Cost after iteration 1800: 0.12974017549190128\n",
      "Cost after iteration 1900: 0.12122535068005211\n",
      "Cost after iteration 2000: 0.11382060668633691\n",
      "Cost after iteration 2100: 0.10783928526254155\n",
      "Cost after iteration 2200: 0.10285466069352665\n",
      "Cost after iteration 2300: 0.10089745445261772\n",
      "Cost after iteration 2400: 0.09287821526472397\n",
      "Cost after iteration 2499: 0.08843994344170186\n"
     ]
    }
   ],
   "source": [
    "parameters, costs = L_layer_model(train_x, train_y, layers_dims, num_iterations = 2500, print_cost = True)"
   ]
  },
  {
   "cell_type": "markdown",
   "id": "be7e241d-d16c-43f3-b523-185c34114563",
   "metadata": {},
   "source": [
    "<div style=\"text-align: center;\">\n",
    "    <img src=\"banners/prediction.jpg\" style=\"width:600px;height:350px;\">\n",
    "</div>\n",
    "\n",
    "## 🧩 8 - Prediction\n",
    "Once the model is trained, we can use it to make predictions on new data. The prediction function will use the learned parameters to predict whether an image contains a cat or not.\n",
    "\n",
    "### 🔮 8.1 - Predict Function\n",
    "\n",
    "The `predict` function takes the input data \\(X\\) and the trained parameters, and outputs the predicted labels. The steps involved in the prediction process are:\n",
    "\n",
    "1. Perform a forward pass through the network using the learned parameters to compute the activations.\n",
    "2. Convert the activations into binary predictions (0 or 1) based on a threshold (commonly 0.5).\n",
    "\n",
    "The `predict` function is implemented as follows:"
   ]
  },
  {
   "cell_type": "code",
   "execution_count": 120,
   "id": "19fc1fbd-3702-493a-aeba-9b33d77355f8",
   "metadata": {},
   "outputs": [],
   "source": [
    "def predict(X, y, parameters):\n",
    "    \n",
    "    m = X.shape[1]\n",
    "    n = len(parameters) // 2 # number of layers in the neural network\n",
    "    p = np.zeros((1,m))\n",
    "  \n",
    "    probas, caches = L_model_forward(X, parameters)\n",
    "\n",
    "\n",
    "    for i in range(0, probas.shape[1]):\n",
    "        if probas[0,i] > 0.5:\n",
    "            p[0,i] = 1\n",
    "        else:\n",
    "            p[0,i] = 0\n",
    "\n",
    "    print(\"Accuracy: \"  + str(np.sum((p == y)/m)))\n",
    "        \n",
    "    return p"
   ]
  },
  {
   "cell_type": "markdown",
   "id": "88cd296e-4562-4f02-97de-2077fde5e7e2",
   "metadata": {},
   "source": [
    "### 📊 8.2 - Evaluate Model Performance\n",
    "\n",
    "To evaluate the performance of our model, we can calculate the accuracy by comparing the predictions to the true labels\n",
    "Run the following cell to evaluate the accuracy of the model on the training and test sets:"
   ]
  },
  {
   "cell_type": "code",
   "execution_count": 132,
   "id": "a4279640-8a95-449f-97ce-3c3131b4230b",
   "metadata": {},
   "outputs": [
    {
     "name": "stdout",
     "output_type": "stream",
     "text": [
      "Accuracy: 0.9856459330143539\n"
     ]
    }
   ],
   "source": [
    "pred_train = predict(train_x, train_y, parameters)"
   ]
  },
  {
   "cell_type": "code",
   "execution_count": 126,
   "id": "8e6e5b94-e5cf-41ac-9b45-c13429101dc9",
   "metadata": {},
   "outputs": [
    {
     "name": "stdout",
     "output_type": "stream",
     "text": [
      "Accuracy: 0.8\n"
     ]
    }
   ],
   "source": [
    "pred_test = predict(test_x, test_y, parameters)"
   ]
  },
  {
   "cell_type": "markdown",
   "id": "c8d330d1-e719-4164-a379-aa227779669e",
   "metadata": {},
   "source": [
    "By running this evaluation, you can assess how well your model performs on both the training and test datasets, providing insight into its ability to generalize to new data."
   ]
  },
  {
   "cell_type": "code",
   "execution_count": 127,
   "id": "0063b7a5-3d9b-47ff-9cb4-d7f42d0e2fec",
   "metadata": {},
   "outputs": [
    {
     "name": "stdout",
     "output_type": "stream",
     "text": [
      "Accuracy: 1.0\n",
      "y = 1.0, your L-layer model predicts a \"cat\" picture.\n"
     ]
    },
    {
     "data": {
      "image/png": "[encoded data removed]",
      "text/plain": [
       "<Figure size 640x480 with 1 Axes>"
      ]
     },
     "metadata": {},
     "output_type": "display_data"
    }
   ],
   "source": [
    "my_image = \"image1.jpg\" # change this to the name of your image file \n",
    "my_label_y = [1] # the true class of your image (1 -> cat, 0 -> non-cat)\n",
    "\n",
    "fname = \"images/\" + my_image\n",
    "image = np.array(Image.open(fname).resize((num_px, num_px)))\n",
    "plt.imshow(image)\n",
    "image = image / 255.\n",
    "image = image.reshape((1, num_px * num_px * 3)).T\n",
    "\n",
    "my_predicted_image = predict(image, my_label_y, parameters)\n",
    "\n",
    "\n",
    "print (\"y = \" + str(np.squeeze(my_predicted_image)) + \", Our L-layer model predicts a \\\"\" + classes[int(np.squeeze(my_predicted_image)),].decode(\"utf-8\") +  \"\\\" picture.\")"
   ]
  }
 ],
 "metadata": {
  "kernelspec": {
   "display_name": "Python 3 (ipykernel)",
   "language": "python",
   "name": "python3"
  },
  "language_info": {
   "codemirror_mode": {
    "name": "ipython",
    "version": 3
   },
   "file_extension": ".py",
   "mimetype": "text/x-python",
   "name": "python",
   "nbconvert_exporter": "python",
   "pygments_lexer": "ipython3",
   "version": "3.8.19"
  }
 },
 "nbformat": 4,
 "nbformat_minor": 5
}
